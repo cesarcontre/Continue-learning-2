{
  "nbformat": 4,
  "nbformat_minor": 0,
  "metadata": {
    "colab": {
      "provenance": []
    },
    "kernelspec": {
      "name": "python3",
      "display_name": "Python 3"
    },
    "language_info": {
      "name": "python"
    }
  },
  "cells": [
    {
      "cell_type": "code",
      "execution_count": 26,
      "metadata": {
        "id": "UTd1kgXibMHX"
      },
      "outputs": [],
      "source": [
        "def makeCoinChange_US(deno, amount):\n",
        "  cham = [float('inf')]*(amount+1)\n",
        "\n",
        "  cham[0] = 0\n",
        "\n",
        "  for deno in deno:\n",
        "    for i in range(deno, amount+1):\n",
        "      cham[i] = min(cham[i],cham[i-deno]+1)\n",
        "  return cham[amount] if cham[amount] != float('inf') else -1"
      ]
    },
    {
      "cell_type": "code",
      "source": [
        "makeCoinChange_US([1,5,10,25],101)"
      ],
      "metadata": {
        "colab": {
          "base_uri": "https://localhost:8080/"
        },
        "id": "KaCXh01Fc84Z",
        "outputId": "e5085413-9198-451e-99ea-70c1e84e4ea1"
      },
      "execution_count": 27,
      "outputs": [
        {
          "output_type": "execute_result",
          "data": {
            "text/plain": [
              "5"
            ]
          },
          "metadata": {},
          "execution_count": 27
        }
      ]
    },
    {
      "cell_type": "code",
      "source": [],
      "metadata": {
        "id": "JlYOAHAroah1"
      },
      "execution_count": null,
      "outputs": []
    },
    {
      "cell_type": "code",
      "source": [],
      "metadata": {
        "id": "xAHdar76oak_"
      },
      "execution_count": null,
      "outputs": []
    },
    {
      "cell_type": "code",
      "source": [],
      "metadata": {
        "id": "EMeNQq-poaoQ"
      },
      "execution_count": null,
      "outputs": []
    },
    {
      "cell_type": "code",
      "source": [],
      "metadata": {
        "id": "TCCelaxgoarn"
      },
      "execution_count": null,
      "outputs": []
    },
    {
      "cell_type": "code",
      "source": [],
      "metadata": {
        "id": "vD1WFwF9oavA"
      },
      "execution_count": null,
      "outputs": []
    },
    {
      "cell_type": "code",
      "source": [],
      "metadata": {
        "id": "u70pAS-RoayZ"
      },
      "execution_count": null,
      "outputs": []
    },
    {
      "cell_type": "code",
      "source": [],
      "metadata": {
        "id": "e5LjmfAgoa1y"
      },
      "execution_count": null,
      "outputs": []
    },
    {
      "cell_type": "code",
      "source": [
        "def makeCoinChange_US(coins, amount):\n",
        "    coins.sort()\n",
        "\n",
        "    dp = [float('inf')] * (amount + 1)\n",
        "    dp[0] = 0\n",
        "    lastCoin = [0] * (amount + 1)\n",
        "    for coin in coins:\n",
        "        for i in range(coin, amount + 1):\n",
        "            if dp[i - coin] + 1 < dp[i]:\n",
        "                dp[i] = dp[i - coin] + 1\n",
        "                lastCoin[i] = coin\n",
        "    if dp[amount] == float('inf'):\n",
        "        return -1\n",
        "    else:\n",
        "        combinations = []\n",
        "        while amount > 0:\n",
        "            combinations.append(lastCoin[amount])\n",
        "            amount -= lastCoin[amount]\n",
        "        return combinations"
      ],
      "metadata": {
        "id": "4EdIZTxPk5Qa"
      },
      "execution_count": 32,
      "outputs": []
    },
    {
      "cell_type": "code",
      "source": [
        "makeCoinChange_US([1,5,10,25],101)"
      ],
      "metadata": {
        "colab": {
          "base_uri": "https://localhost:8080/"
        },
        "id": "JnbiY0yxk6no",
        "outputId": "da791aa1-4ab6-4416-b6f8-c0e67fed8700"
      },
      "execution_count": 33,
      "outputs": [
        {
          "output_type": "execute_result",
          "data": {
            "text/plain": [
              "[25, 25, 25, 25, 1]"
            ]
          },
          "metadata": {},
          "execution_count": 33
        }
      ]
    }
  ]
}